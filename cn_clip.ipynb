{
 "cells": [
  {
   "cell_type": "markdown",
   "id": "c0a46f73-d87a-4203-8d17-80ac12f089fc",
   "metadata": {},
   "source": [
    "# 中文 CLIP"
   ]
  },
  {
   "cell_type": "markdown",
   "id": "fb7793dd-7510-40a1-8549-daf5930003f7",
   "metadata": {},
   "source": [
    "https://github.com/OFA-Sys/Chinese-CLIP"
   ]
  },
  {
   "cell_type": "markdown",
   "id": "749a06e1-b0f0-4640-ada6-42e1acd8b1e3",
   "metadata": {},
   "source": [
    "直接下载该仓库处理好的数据集"
   ]
  },
  {
   "cell_type": "markdown",
   "id": "9ba978dd-0256-4c08-97b7-6c0dd4d2a068",
   "metadata": {},
   "source": [
    "## 预测及评估 验证集 valid"
   ]
  },
  {
   "cell_type": "markdown",
   "id": "43e99f87-4a31-4bc4-9fe8-d75908d8692e",
   "metadata": {},
   "source": [
    "### 图文特征提取"
   ]
  },
  {
   "cell_type": "code",
   "execution_count": 6,
   "id": "cbb5c507-b626-432b-a866-a77bba5e445f",
   "metadata": {},
   "outputs": [
    {
     "name": "stdout",
     "output_type": "stream",
     "text": [
      "Params:\n",
      "  context_length: 52\n",
      "  debug: False\n",
      "  extract_image_feats: True\n",
      "  extract_text_feats: True\n",
      "  image_data: /data/nxy/datasets/MUGE/lmdb/valid/imgs\n",
      "  image_feat_output_path: None\n",
      "  img_batch_size: 32\n",
      "  precision: amp\n",
      "  resume: /data/nxy/pretrained_weights/clip_cn_vit-b-16.pt\n",
      "  text_batch_size: 32\n",
      "  text_data: /data/nxy/datasets/MUGE/valid_texts.jsonl\n",
      "  text_feat_output_path: None\n",
      "  text_model: RoBERTa-wwm-ext-base-chinese\n",
      "  vision_model: ViT-B-16\n",
      "Loading vision model config from cn_clip/clip/model_configs/ViT-B-16.json\n",
      "Loading text model config from cn_clip/clip/model_configs/RoBERTa-wwm-ext-base-chinese.json\n",
      "Preparing image inference dataset.\n",
      "Preparing text inference dataset.\n",
      "Begin to load model checkpoint from /data/nxy/pretrained_weights/clip_cn_vit-b-16.pt.\n",
      "=> loaded checkpoint '/data/nxy/pretrained_weights/clip_cn_vit-b-16.pt' (epoch 15 @ 180000 steps)\n",
      "Make inference for texts...\n",
      "100%|█████████████████████████████████████████| 157/157 [00:07<00:00, 21.94it/s]\n",
      "5008 text features are stored in /data/nxy/datasets/MUGE/valid_texts.txt_feat.jsonl\n",
      "Make inference for images...\n",
      "100%|█████████████████████████████████████████| 932/932 [12:03<00:00,  1.29it/s]\n",
      "29806 image features are stored in /data/nxy/datasets/MUGE/valid_imgs.img_feat.jsonl\n",
      "Done!\n"
     ]
    }
   ],
   "source": [
    "!export CUDA_VISIBLE_DEVICES=0\n",
    "!export PYTHONPATH=${PYTHONPATH}:`pwd`/cn_clip\n",
    "\n",
    "!python -u cn_clip/eval/extract_features.py \\\n",
    "    --extract-image-feats \\\n",
    "    --extract-text-feats \\\n",
    "    --image-data=\"/data/nxy/datasets/MUGE/lmdb/valid/imgs\" \\\n",
    "    --text-data=\"/data/nxy/datasets/MUGE/valid_texts.jsonl\" \\\n",
    "    --img-batch-size=32 \\\n",
    "    --text-batch-size=32 \\\n",
    "    --context-length=52 \\\n",
    "    --resume=\"/data/nxy/pretrained_weights/clip_cn_vit-b-16.pt\" \\\n",
    "    --vision-model=ViT-B-16 \\\n",
    "    --text-model=RoBERTa-wwm-ext-base-chinese"
   ]
  },
  {
   "cell_type": "markdown",
   "id": "c29cc55e-f65d-4289-b8a2-e4a7bfd6f67d",
   "metadata": {},
   "source": [
    "### KNN检索"
   ]
  },
  {
   "cell_type": "code",
   "execution_count": 7,
   "id": "0e824d7a-c412-48e7-a873-5e6be7865a0f",
   "metadata": {},
   "outputs": [
    {
     "name": "stdout",
     "output_type": "stream",
     "text": [
      "Params:\n",
      "  eval_batch_size: 32768\n",
      "  image_feats: /data/nxy/datasets/MUGE/valid_imgs.img_feat.jsonl\n",
      "  output: /data/nxy/datasets/MUGE/valid_predictions.jsonl\n",
      "  text_feats: /data/nxy/datasets/MUGE/valid_texts.txt_feat.jsonl\n",
      "  top_k: 10\n",
      "Begin to load image features...\n",
      "29806it [00:04, 6941.37it/s]\n",
      "Finished loading image features.\n",
      "Begin to compute top-10 predictions for texts...\n",
      "5008it [02:13, 37.55it/s]\n",
      "Top-10 predictions are saved in /data/nxy/datasets/MUGE/valid_predictions.jsonl\n",
      "Done!\n"
     ]
    }
   ],
   "source": [
    "!python -u cn_clip/eval/make_topk_predictions.py \\\n",
    "    --image-feats=\"/data/nxy/datasets/MUGE/valid_imgs.img_feat.jsonl\" \\\n",
    "    --text-feats=\"/data/nxy/datasets/MUGE/valid_texts.txt_feat.jsonl\" \\\n",
    "    --top-k=10 \\\n",
    "    --eval-batch-size=32768 \\\n",
    "    --output=\"/data/nxy/datasets/MUGE/valid_predictions.jsonl\""
   ]
  },
  {
   "cell_type": "markdown",
   "id": "8905334c-de1b-47f8-af3a-ae6149a5252d",
   "metadata": {},
   "source": [
    "### Recall计算"
   ]
  },
  {
   "cell_type": "code",
   "execution_count": 8,
   "id": "d8e7a200-b9fa-4d4d-a246-f54303e4a3d1",
   "metadata": {},
   "outputs": [
    {
     "name": "stdout",
     "output_type": "stream",
     "text": [
      "Read standard from /data/nxy/datasets/MUGE/valid_texts.jsonl\n",
      "Read user submit file from /data/nxy/datasets/MUGE/valid_predictions.jsonl\n",
      "The evaluation finished successfully.\n"
     ]
    }
   ],
   "source": [
    "!python cn_clip/eval/evaluation.py \\\n",
    "        /data/nxy/datasets/MUGE/valid_texts.jsonl \\\n",
    "        /data/nxy/datasets/MUGE/valid_predictions.jsonl \\\n",
    "        output.json"
   ]
  },
  {
   "cell_type": "markdown",
   "id": "6ac4d661-c6a4-4789-9899-0ebd3a8b6a9c",
   "metadata": {},
   "source": [
    "## 预测及评估 测试集 test"
   ]
  },
  {
   "cell_type": "markdown",
   "id": "700608ec-25b6-4f54-b113-323f576f4b1c",
   "metadata": {},
   "source": [
    "### 数据处理"
   ]
  },
  {
   "cell_type": "code",
   "execution_count": 3,
   "id": "5bec51bf-72aa-42ae-86b2-9e888a7b5daf",
   "metadata": {},
   "outputs": [
    {
     "name": "stdout",
     "output_type": "stream",
     "text": [
      "Dataset splits to be processed: test\n",
      "30399it [00:46, 648.85it/s] \n",
      "Finished serializing 30399 test split images into /data/nxy/datasets/MUGE/lmdb/test/imgs.\n",
      "done!\n"
     ]
    }
   ],
   "source": [
    "!python cn_clip/preprocess/build_lmdb_dataset.py \\\n",
    "    --data_dir /data/nxy/datasets/MUGE \\\n",
    "    --splits test"
   ]
  },
  {
   "cell_type": "markdown",
   "id": "093b6632-7078-4ca5-9a89-d41128bc9b33",
   "metadata": {},
   "source": [
    "### 图文特征提取"
   ]
  },
  {
   "cell_type": "code",
   "execution_count": 3,
   "id": "2932c52e-2545-4645-9485-a6a1cbc85cfc",
   "metadata": {},
   "outputs": [
    {
     "name": "stdout",
     "output_type": "stream",
     "text": [
      "Params:\n",
      "  context_length: 52\n",
      "  debug: False\n",
      "  extract_image_feats: True\n",
      "  extract_text_feats: True\n",
      "  image_data: /data/nxy/datasets/MUGE/lmdb/test/imgs\n",
      "  image_feat_output_path: None\n",
      "  img_batch_size: 32\n",
      "  precision: amp\n",
      "  resume: /data/nxy/pretrained_weights/clip_cn_vit-b-16.pt\n",
      "  text_batch_size: 32\n",
      "  text_data: /data/nxy/datasets/MUGE/test_texts.jsonl\n",
      "  text_feat_output_path: None\n",
      "  text_model: RoBERTa-wwm-ext-base-chinese\n",
      "  vision_model: ViT-B-16\n",
      "Loading vision model config from cn_clip/clip/model_configs/ViT-B-16.json\n",
      "Loading text model config from cn_clip/clip/model_configs/RoBERTa-wwm-ext-base-chinese.json\n",
      "Preparing image inference dataset.\n",
      "Preparing text inference dataset.\n",
      "Begin to load model checkpoint from /data/nxy/pretrained_weights/clip_cn_vit-b-16.pt.\n",
      "=> loaded checkpoint '/data/nxy/pretrained_weights/clip_cn_vit-b-16.pt' (epoch 15 @ 180000 steps)\n",
      "Make inference for texts...\n",
      "100%|█████████████████████████████████████████| 157/157 [00:06<00:00, 24.50it/s]\n",
      "5004 text features are stored in /data/nxy/datasets/MUGE/test_texts.txt_feat.jsonl\n",
      "Make inference for images...\n",
      "100%|█████████████████████████████████████████| 950/950 [10:38<00:00,  1.49it/s]\n",
      "30399 image features are stored in /data/nxy/datasets/MUGE/test_imgs.img_feat.jsonl\n",
      "Done!\n"
     ]
    }
   ],
   "source": [
    "!python -u cn_clip/eval/extract_features.py \\\n",
    "    --extract-image-feats \\\n",
    "    --extract-text-feats \\\n",
    "    --image-data=\"/data/nxy/datasets/MUGE/lmdb/test/imgs\" \\\n",
    "    --text-data=\"/data/nxy/datasets/MUGE/test_texts.jsonl\" \\\n",
    "    --img-batch-size=32 \\\n",
    "    --text-batch-size=32 \\\n",
    "    --context-length=52 \\\n",
    "    --resume=\"/data/nxy/pretrained_weights/clip_cn_vit-b-16.pt\" \\\n",
    "    --vision-model=ViT-B-16 \\\n",
    "    --text-model=RoBERTa-wwm-ext-base-chinese"
   ]
  },
  {
   "cell_type": "markdown",
   "id": "3fe5b4a8-08ce-45c5-bec1-776498d25e2f",
   "metadata": {},
   "source": [
    "### KNN检索"
   ]
  },
  {
   "cell_type": "code",
   "execution_count": 5,
   "id": "8cebe9df-e097-4557-8c7b-b5e79bb62986",
   "metadata": {},
   "outputs": [
    {
     "name": "stdout",
     "output_type": "stream",
     "text": [
      "Params:\n",
      "  eval_batch_size: 32768\n",
      "  image_feats: /data/nxy/datasets/MUGE/test_imgs.img_feat.jsonl\n",
      "  output: /data/nxy/datasets/MUGE/test_predictions.jsonl\n",
      "  text_feats: /data/nxy/datasets/MUGE/test_texts.txt_feat.jsonl\n",
      "  top_k: 10\n",
      "Begin to load image features...\n",
      "30399it [00:34, 885.59it/s] \n",
      "Finished loading image features.\n",
      "Begin to compute top-10 predictions for texts...\n",
      "5004it [02:10, 38.23it/s]\n",
      "Top-10 predictions are saved in /data/nxy/datasets/MUGE/test_predictions.jsonl\n",
      "Done!\n"
     ]
    }
   ],
   "source": [
    "!python -u cn_clip/eval/make_topk_predictions.py \\\n",
    "    --image-feats=\"/data/nxy/datasets/MUGE/test_imgs.img_feat.jsonl\" \\\n",
    "    --text-feats=\"/data/nxy/datasets/MUGE/test_texts.txt_feat.jsonl\" \\\n",
    "    --top-k=10 \\\n",
    "    --eval-batch-size=32768 \\\n",
    "    --output=\"/data/nxy/datasets/MUGE/test_predictions.jsonl\""
   ]
  },
  {
   "cell_type": "code",
   "execution_count": null,
   "id": "312c1237-0c45-4bdb-8a84-ac25a61ea6f1",
   "metadata": {},
   "outputs": [],
   "source": []
  }
 ],
 "metadata": {
  "kernelspec": {
   "display_name": "Python 3 (ipykernel)",
   "language": "python",
   "name": "python3"
  },
  "language_info": {
   "codemirror_mode": {
    "name": "ipython",
    "version": 3
   },
   "file_extension": ".py",
   "mimetype": "text/x-python",
   "name": "python",
   "nbconvert_exporter": "python",
   "pygments_lexer": "ipython3",
   "version": "3.7.13"
  }
 },
 "nbformat": 4,
 "nbformat_minor": 5
}
